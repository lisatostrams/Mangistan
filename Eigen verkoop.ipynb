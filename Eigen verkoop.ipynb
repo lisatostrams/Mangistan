{
 "cells": [
  {
   "cell_type": "code",
   "execution_count": 2,
   "id": "7c732727",
   "metadata": {},
   "outputs": [
    {
     "data": {
      "text/plain": [
       "['data/producenten_data/korte keten verkoop 1 schakel.csv',\n",
       " 'data/producenten_data/korte keten verkoop.csv']"
      ]
     },
     "execution_count": 2,
     "metadata": {},
     "output_type": "execute_result"
    }
   ],
   "source": [
    "import osmnx as ox\n",
    "import matplotlib.pyplot as plt\n",
    "import networkx as nx\n",
    "import pandas as pd\n",
    "import numpy as np\n",
    "import matplotlib.cm as cm\n",
    "import csv\n",
    "from shapely import geometry\n",
    "\n",
    "import os\n",
    "import time\n",
    "import glob\n",
    "\n",
    "folder = 'data/producenten_data/'\n",
    "files = glob.glob(folder+'*keten*')\n",
    "files"
   ]
  },
  {
   "cell_type": "code",
   "execution_count": 15,
   "id": "d4c88618",
   "metadata": {},
   "outputs": [
    {
     "data": {
      "text/html": [
       "<div>\n",
       "<style scoped>\n",
       "    .dataframe tbody tr th:only-of-type {\n",
       "        vertical-align: middle;\n",
       "    }\n",
       "\n",
       "    .dataframe tbody tr th {\n",
       "        vertical-align: top;\n",
       "    }\n",
       "\n",
       "    .dataframe thead th {\n",
       "        text-align: right;\n",
       "    }\n",
       "</style>\n",
       "<table border=\"1\" class=\"dataframe\">\n",
       "  <thead>\n",
       "    <tr style=\"text-align: right;\">\n",
       "      <th></th>\n",
       "      <th>Categorie</th>\n",
       "      <th>Totaalomzet (mln euro)</th>\n",
       "      <th>Omzet uit korte ketenverkoop (mln euro)</th>\n",
       "    </tr>\n",
       "  </thead>\n",
       "  <tbody>\n",
       "    <tr>\n",
       "      <th>0</th>\n",
       "      <td>Sierteeltbedrijven</td>\n",
       "      <td>1595</td>\n",
       "      <td>586</td>\n",
       "    </tr>\n",
       "    <tr>\n",
       "      <th>1</th>\n",
       "      <td>Voedingstuinbouwbedrijven</td>\n",
       "      <td>1166</td>\n",
       "      <td>398</td>\n",
       "    </tr>\n",
       "    <tr>\n",
       "      <th>2</th>\n",
       "      <td>Melkveebedrijven</td>\n",
       "      <td>520</td>\n",
       "      <td>182</td>\n",
       "    </tr>\n",
       "    <tr>\n",
       "      <th>3</th>\n",
       "      <td>Akkerbouwbedrijven</td>\n",
       "      <td>400</td>\n",
       "      <td>108</td>\n",
       "    </tr>\n",
       "    <tr>\n",
       "      <th>4</th>\n",
       "      <td>Leghennenbedrijven</td>\n",
       "      <td>279</td>\n",
       "      <td>56</td>\n",
       "    </tr>\n",
       "  </tbody>\n",
       "</table>\n",
       "</div>"
      ],
      "text/plain": [
       "                   Categorie  Totaalomzet (mln euro)  \\\n",
       "0         Sierteeltbedrijven                    1595   \n",
       "1  Voedingstuinbouwbedrijven                    1166   \n",
       "2           Melkveebedrijven                     520   \n",
       "3         Akkerbouwbedrijven                     400   \n",
       "4         Leghennenbedrijven                     279   \n",
       "\n",
       "   Omzet uit korte ketenverkoop (mln euro)  \n",
       "0                                      586  \n",
       "1                                      398  \n",
       "2                                      182  \n",
       "3                                      108  \n",
       "4                                       56  "
      ]
     },
     "execution_count": 15,
     "metadata": {},
     "output_type": "execute_result"
    }
   ],
   "source": [
    "df_omzet = pd.read_csv(files[1])\n",
    "df_keten = pd.read_csv(files[0])\n",
    "df_omzet\n"
   ]
  },
  {
   "cell_type": "code",
   "execution_count": 11,
   "id": "df11a61d",
   "metadata": {},
   "outputs": [
    {
     "data": {
      "text/html": [
       "<div>\n",
       "<style scoped>\n",
       "    .dataframe tbody tr th:only-of-type {\n",
       "        vertical-align: middle;\n",
       "    }\n",
       "\n",
       "    .dataframe tbody tr th {\n",
       "        vertical-align: top;\n",
       "    }\n",
       "\n",
       "    .dataframe thead th {\n",
       "        text-align: right;\n",
       "    }\n",
       "</style>\n",
       "<table border=\"1\" class=\"dataframe\">\n",
       "  <thead>\n",
       "    <tr style=\"text-align: right;\">\n",
       "      <th></th>\n",
       "      <th>Categorie</th>\n",
       "      <th>Verkoop via één tussenschakel (mln euro)</th>\n",
       "      <th>Rechtstreekse verkoop aan de consument (mln euro)</th>\n",
       "    </tr>\n",
       "  </thead>\n",
       "  <tbody>\n",
       "    <tr>\n",
       "      <th>0</th>\n",
       "      <td>Sierteeltbedrijven</td>\n",
       "      <td>484.0</td>\n",
       "      <td>103.0</td>\n",
       "    </tr>\n",
       "    <tr>\n",
       "      <th>1</th>\n",
       "      <td>Voedingstuinbouwbedrijven</td>\n",
       "      <td>330.0</td>\n",
       "      <td>68.0</td>\n",
       "    </tr>\n",
       "    <tr>\n",
       "      <th>2</th>\n",
       "      <td>Melkveebedrijven</td>\n",
       "      <td>147.0</td>\n",
       "      <td>35.0</td>\n",
       "    </tr>\n",
       "    <tr>\n",
       "      <th>3</th>\n",
       "      <td>Akkerbouwbedrijven</td>\n",
       "      <td>85.0</td>\n",
       "      <td>23.0</td>\n",
       "    </tr>\n",
       "    <tr>\n",
       "      <th>4</th>\n",
       "      <td>Leghennenbedrijven</td>\n",
       "      <td>37.0</td>\n",
       "      <td>19.0</td>\n",
       "    </tr>\n",
       "  </tbody>\n",
       "</table>\n",
       "</div>"
      ],
      "text/plain": [
       "                   Categorie  Verkoop via één tussenschakel (mln euro)  \\\n",
       "0         Sierteeltbedrijven                                     484.0   \n",
       "1  Voedingstuinbouwbedrijven                                     330.0   \n",
       "2           Melkveebedrijven                                     147.0   \n",
       "3         Akkerbouwbedrijven                                      85.0   \n",
       "4         Leghennenbedrijven                                      37.0   \n",
       "\n",
       "   Rechtstreekse verkoop aan de consument (mln euro)  \n",
       "0                                              103.0  \n",
       "1                                               68.0  \n",
       "2                                               35.0  \n",
       "3                                               23.0  \n",
       "4                                               19.0  "
      ]
     },
     "execution_count": 11,
     "metadata": {},
     "output_type": "execute_result"
    }
   ],
   "source": [
    "df_keten = df_keten.dropna()\n",
    "df_keten"
   ]
  },
  {
   "cell_type": "code",
   "execution_count": 24,
   "id": "65305399",
   "metadata": {},
   "outputs": [],
   "source": [
    "new_col = df_keten['Rechtstreekse verkoop aan de consument (mln euro)']/df_omzet['Totaalomzet (mln euro)'].astype('float')"
   ]
  },
  {
   "cell_type": "code",
   "execution_count": 27,
   "id": "57d8cdab",
   "metadata": {},
   "outputs": [],
   "source": [
    "df_keten['% omzet via EV'] = new_col*100"
   ]
  },
  {
   "cell_type": "code",
   "execution_count": 28,
   "id": "1d3e07c9",
   "metadata": {},
   "outputs": [
    {
     "data": {
      "text/html": [
       "<div>\n",
       "<style scoped>\n",
       "    .dataframe tbody tr th:only-of-type {\n",
       "        vertical-align: middle;\n",
       "    }\n",
       "\n",
       "    .dataframe tbody tr th {\n",
       "        vertical-align: top;\n",
       "    }\n",
       "\n",
       "    .dataframe thead th {\n",
       "        text-align: right;\n",
       "    }\n",
       "</style>\n",
       "<table border=\"1\" class=\"dataframe\">\n",
       "  <thead>\n",
       "    <tr style=\"text-align: right;\">\n",
       "      <th></th>\n",
       "      <th>Categorie</th>\n",
       "      <th>Verkoop via één tussenschakel (mln euro)</th>\n",
       "      <th>Rechtstreekse verkoop aan de consument (mln euro)</th>\n",
       "      <th>% omzet via EV</th>\n",
       "    </tr>\n",
       "  </thead>\n",
       "  <tbody>\n",
       "    <tr>\n",
       "      <th>0</th>\n",
       "      <td>Sierteeltbedrijven</td>\n",
       "      <td>484.0</td>\n",
       "      <td>103.0</td>\n",
       "      <td>6.457680</td>\n",
       "    </tr>\n",
       "    <tr>\n",
       "      <th>1</th>\n",
       "      <td>Voedingstuinbouwbedrijven</td>\n",
       "      <td>330.0</td>\n",
       "      <td>68.0</td>\n",
       "      <td>5.831904</td>\n",
       "    </tr>\n",
       "    <tr>\n",
       "      <th>2</th>\n",
       "      <td>Melkveebedrijven</td>\n",
       "      <td>147.0</td>\n",
       "      <td>35.0</td>\n",
       "      <td>6.730769</td>\n",
       "    </tr>\n",
       "    <tr>\n",
       "      <th>3</th>\n",
       "      <td>Akkerbouwbedrijven</td>\n",
       "      <td>85.0</td>\n",
       "      <td>23.0</td>\n",
       "      <td>5.750000</td>\n",
       "    </tr>\n",
       "    <tr>\n",
       "      <th>4</th>\n",
       "      <td>Leghennenbedrijven</td>\n",
       "      <td>37.0</td>\n",
       "      <td>19.0</td>\n",
       "      <td>6.810036</td>\n",
       "    </tr>\n",
       "    <tr>\n",
       "      <th>5</th>\n",
       "      <td></td>\n",
       "      <td>NaN</td>\n",
       "      <td>NaN</td>\n",
       "      <td>NaN</td>\n",
       "    </tr>\n",
       "  </tbody>\n",
       "</table>\n",
       "</div>"
      ],
      "text/plain": [
       "                   Categorie  Verkoop via één tussenschakel (mln euro)  \\\n",
       "0         Sierteeltbedrijven                                     484.0   \n",
       "1  Voedingstuinbouwbedrijven                                     330.0   \n",
       "2           Melkveebedrijven                                     147.0   \n",
       "3         Akkerbouwbedrijven                                      85.0   \n",
       "4         Leghennenbedrijven                                      37.0   \n",
       "5                                                                  NaN   \n",
       "\n",
       "   Rechtstreekse verkoop aan de consument (mln euro)  % omzet via EV  \n",
       "0                                              103.0        6.457680  \n",
       "1                                               68.0        5.831904  \n",
       "2                                               35.0        6.730769  \n",
       "3                                               23.0        5.750000  \n",
       "4                                               19.0        6.810036  \n",
       "5                                                NaN             NaN  "
      ]
     },
     "execution_count": 28,
     "metadata": {},
     "output_type": "execute_result"
    }
   ],
   "source": [
    "df_keten"
   ]
  },
  {
   "cell_type": "code",
   "execution_count": null,
   "id": "7c3752b9",
   "metadata": {},
   "outputs": [],
   "source": []
  }
 ],
 "metadata": {
  "kernelspec": {
   "display_name": "Python 3",
   "language": "python",
   "name": "python3"
  },
  "language_info": {
   "codemirror_mode": {
    "name": "ipython",
    "version": 3
   },
   "file_extension": ".py",
   "mimetype": "text/x-python",
   "name": "python",
   "nbconvert_exporter": "python",
   "pygments_lexer": "ipython3",
   "version": "3.5.5"
  }
 },
 "nbformat": 4,
 "nbformat_minor": 5
}
